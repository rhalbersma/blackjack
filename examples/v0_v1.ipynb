{
 "metadata": {
  "language_info": {
   "codemirror_mode": {
    "name": "ipython",
    "version": 3
   },
   "file_extension": ".py",
   "mimetype": "text/x-python",
   "name": "python",
   "nbconvert_exporter": "python",
   "pygments_lexer": "ipython3",
   "version": "3.8.5-final"
  },
  "orig_nbformat": 2,
  "kernelspec": {
   "name": "python3",
   "display_name": "Python 3",
   "language": "python"
  }
 },
 "nbformat": 4,
 "nbformat_minor": 2,
 "cells": [
  {
   "cell_type": "code",
   "execution_count": 1,
   "metadata": {},
   "outputs": [],
   "source": [
    "import gym\n",
    "import gym_blackjack_v1 as bj\n",
    "import numpy as np\n",
    "from itertools import product"
   ]
  },
  {
   "cell_type": "code",
   "execution_count": null,
   "metadata": {},
   "outputs": [],
   "source": [
    "env = gym.make('Blackjack-v0')\n",
    "agent = bj.BasicStrategyAgent(env)\n",
    "stats = bj.simulate(agent, env)\n",
    "print(dict(zip(stats.data, stats.weights / stats.sum_weights)), stats.mean, stats.tconfint_mean())"
   ]
  },
  {
   "cell_type": "code",
   "execution_count": null,
   "metadata": {},
   "outputs": [],
   "source": [
    "env = gym.make('Blackjack-v0', natural=True)\n",
    "agent = bj.BasicStrategyAgent(env)\n",
    "stats = bj.simulate(agent, env)\n",
    "print(dict(zip(stats.data, stats.weights / stats.sum_weights)), stats.mean, stats.tconfint_mean())"
   ]
  },
  {
   "cell_type": "code",
   "execution_count": null,
   "metadata": {},
   "outputs": [],
   "source": [
    "env = gym.make('Blackjack-v1', blackjack_ties_with_21=True)\n",
    "agent = bj.BasicStrategyAgent(env)\n",
    "stats = bj.simulate(agent, env)\n",
    "print(dict(zip(stats.data, stats.weights / stats.sum_weights)), stats.mean, stats.tconfint_mean())"
   ]
  },
  {
   "cell_type": "code",
   "execution_count": 2,
   "metadata": {},
   "outputs": [
    {
     "output_type": "stream",
     "name": "stderr",
     "text": [
      "100%|██████████| 1000000/1000000 [00:07<00:00, 132950.90it/s]{1.0: 0.432607, -1.0: 0.480186, 0.0: 0.087207} -0.047579 (-0.049449233285090065, -0.04570876671490994)\n",
      "\n"
     ]
    }
   ],
   "source": [
    "env = gym.make('Blackjack-v1')\n",
    "agent = bj.BasicStrategyAgent(env)\n",
    "stats = bj.simulate(agent, env)\n",
    "print(dict(zip(stats.data, stats.weights / stats.sum_weights)), stats.mean, stats.tconfint_mean())"
   ]
  },
  {
   "cell_type": "code",
   "execution_count": null,
   "metadata": {},
   "outputs": [],
   "source": [
    "env = gym.make('Blackjack-v1', winning_blackjack_payoff=+1.5)\n",
    "agent = bj.BasicStrategyAgent(env)\n",
    "stats = bj.simulate(agent, env)\n",
    "print(dict(zip(stats.data, stats.weights / stats.sum_weights)), stats.mean, stats.tconfint_mean())"
   ]
  }
 ]
}