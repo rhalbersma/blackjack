{
 "metadata": {
  "language_info": {
   "codemirror_mode": {
    "name": "ipython",
    "version": 3
   },
   "file_extension": ".py",
   "mimetype": "text/x-python",
   "name": "python",
   "nbconvert_exporter": "python",
   "pygments_lexer": "ipython3",
   "version": "3.8.5-final"
  },
  "orig_nbformat": 2,
  "kernelspec": {
   "name": "python3",
   "display_name": "Python 3",
   "language": "python"
  }
 },
 "nbformat": 4,
 "nbformat_minor": 2,
 "cells": [
  {
   "cell_type": "code",
   "execution_count": 1,
   "metadata": {},
   "outputs": [],
   "source": [
    "import gym\n",
    "import gym_blackjack_v1 as bj\n",
    "import numpy as np\n",
    "from itertools import product"
   ]
  },
  {
   "cell_type": "code",
   "execution_count": 2,
   "metadata": {},
   "outputs": [
    {
     "output_type": "stream",
     "name": "stderr",
     "text": [
      "100%|██████████| 1000000/1000000 [00:39<00:00, 25453.32it/s]{-1.0: 0.476188, 0.0: 0.094387, 1.0: 0.429425} -0.046763 (-0.048625924179962525, -0.04490007582003747)\n",
      "\n"
     ]
    }
   ],
   "source": [
    "env = gym.make('Blackjack-v0')\n",
    "agent = bj.BasicStrategyAgent(env)\n",
    "stats = bj.simulate(agent, env)\n",
    "print(dict(zip(stats.data, stats.weights / stats.sum_weights)), stats.mean, stats.tconfint_mean())"
   ]
  },
  {
   "cell_type": "code",
   "execution_count": 3,
   "metadata": {},
   "outputs": [
    {
     "output_type": "stream",
     "name": "stderr",
     "text": [
      "100%|██████████| 1000000/1000000 [00:43<00:00, 22929.74it/s]{0.0: 0.094803, 1.0: 0.387507, -1.0: 0.475833, 1.5: 0.041857} -0.0255405 (-0.027457730724724405, -0.023623269275275596)\n",
      "\n"
     ]
    }
   ],
   "source": [
    "env = gym.make('Blackjack-v0', natural=True)\n",
    "agent = bj.BasicStrategyAgent(env)\n",
    "stats = bj.simulate(agent, env)\n",
    "print(dict(zip(stats.data, stats.weights / stats.sum_weights)), stats.mean, stats.tconfint_mean())"
   ]
  },
  {
   "cell_type": "code",
   "execution_count": 4,
   "metadata": {},
   "outputs": [
    {
     "output_type": "stream",
     "name": "stderr",
     "text": [
      "100%|██████████| 1000000/1000000 [00:09<00:00, 111046.59it/s]{0.0: 0.094705, 1.0: 0.430271, -1.0: 0.475024} -0.044753 (-0.046615785961956674, -0.04289021403804333)\n",
      "\n"
     ]
    }
   ],
   "source": [
    "env = gym.make('Blackjack-v1', blackjack_ties_with_21=True)\n",
    "agent = bj.BasicStrategyAgent(env)\n",
    "stats = bj.simulate(agent, env)\n",
    "print(dict(zip(stats.data, stats.weights / stats.sum_weights)), stats.mean, stats.tconfint_mean())"
   ]
  },
  {
   "cell_type": "code",
   "execution_count": 5,
   "metadata": {},
   "outputs": [
    {
     "output_type": "stream",
     "name": "stderr",
     "text": [
      "100%|██████████| 1000000/1000000 [00:08<00:00, 113301.96it/s]{-1.0: 0.479276, 1.0: 0.433204, 0.0: 0.08752} -0.046072 (-0.04794205676779468, -0.044201943232205325)\n",
      "\n"
     ]
    }
   ],
   "source": [
    "env = gym.make('Blackjack-v1')\n",
    "agent = bj.BasicStrategyAgent(env)\n",
    "stats = bj.simulate(agent, env)\n",
    "print(dict(zip(stats.data, stats.weights / stats.sum_weights)), stats.mean, stats.tconfint_mean())"
   ]
  },
  {
   "cell_type": "code",
   "execution_count": 6,
   "metadata": {},
   "outputs": [
    {
     "output_type": "stream",
     "name": "stderr",
     "text": [
      "100%|██████████| 1000000/1000000 [00:08<00:00, 112548.16it/s]{-1.0: 0.479329, 1.0: 0.388383, 0.0: 0.087266, 1.5: 0.045022} -0.023413 (-0.02534181433353836, -0.02148418566646164)\n",
      "\n"
     ]
    }
   ],
   "source": [
    "env = gym.make('Blackjack-v1', winning_blackjack_payoff=+1.5)\n",
    "agent = bj.BasicStrategyAgent(env)\n",
    "stats = bj.simulate(agent, env)\n",
    "print(dict(zip(stats.data, stats.weights / stats.sum_weights)), stats.mean, stats.tconfint_mean())"
   ]
  }
 ]
}