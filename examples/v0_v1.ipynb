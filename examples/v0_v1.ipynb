{
 "metadata": {
  "language_info": {
   "codemirror_mode": {
    "name": "ipython",
    "version": 3
   },
   "file_extension": ".py",
   "mimetype": "text/x-python",
   "name": "python",
   "nbconvert_exporter": "python",
   "pygments_lexer": "ipython3",
   "version": "3.8.5-final"
  },
  "orig_nbformat": 2,
  "kernelspec": {
   "name": "python3",
   "display_name": "Python 3",
   "language": "python"
  }
 },
 "nbformat": 4,
 "nbformat_minor": 2,
 "cells": [
  {
   "cell_type": "code",
   "execution_count": 1,
   "metadata": {},
   "outputs": [],
   "source": [
    "import gym\n",
    "import gym_blackjack_v1 as bj\n",
    "import numpy as np\n",
    "from itertools import product"
   ]
  },
  {
   "cell_type": "code",
   "execution_count": 2,
   "metadata": {},
   "outputs": [
    {
     "output_type": "stream",
     "name": "stderr",
     "text": [
      "100%|██████████| 1000000/1000000 [00:40<00:00, 24686.30it/s]{1.0: 0.429137, -1.0: 0.476174, 0.0: 0.094689} -0.047037 (-0.04889958627862377, -0.04517441372137623)\n",
      "\n"
     ]
    }
   ],
   "source": [
    "env = gym.make('Blackjack-v0')\n",
    "agent = bj.BasicStrategyAgent(env)\n",
    "stats = bj.simulate(agent, env)\n",
    "print(dict(zip(stats.data, stats.weights / stats.sum_weights)), stats.mean, stats.tconfint_mean())"
   ]
  },
  {
   "cell_type": "code",
   "execution_count": 3,
   "metadata": {},
   "outputs": [
    {
     "output_type": "stream",
     "name": "stderr",
     "text": [
      "100%|██████████| 1000000/1000000 [00:41<00:00, 23962.34it/s]{-1.0: 0.47594, 1.0: 0.388223, 0.0: 0.09442, 1.5: 0.041417} -0.0255915 (-0.027508560799369797, -0.023674439200630202)\n",
      "\n"
     ]
    }
   ],
   "source": [
    "env = gym.make('Blackjack-v0', natural=True)\n",
    "agent = bj.BasicStrategyAgent(env)\n",
    "stats = bj.simulate(agent, env)\n",
    "print(dict(zip(stats.data, stats.weights / stats.sum_weights)), stats.mean, stats.tconfint_mean())"
   ]
  },
  {
   "cell_type": "code",
   "execution_count": 4,
   "metadata": {},
   "outputs": [
    {
     "output_type": "stream",
     "name": "stderr",
     "text": [
      "100%|██████████| 1000000/1000000 [00:07<00:00, 138427.43it/s]{0.0: 0.09419, -1.0: 0.476717, 1.0: 0.429093} -0.047624 (-0.04948704350044983, -0.04576095649955017)\n",
      "\n"
     ]
    }
   ],
   "source": [
    "env = gym.make('Blackjack-v1', blackjack_ties_with_21=True)\n",
    "agent = bj.BasicStrategyAgent(env)\n",
    "stats = bj.simulate(agent, env)\n",
    "print(dict(zip(stats.data, stats.weights / stats.sum_weights)), stats.mean, stats.tconfint_mean())"
   ]
  },
  {
   "cell_type": "code",
   "execution_count": 5,
   "metadata": {},
   "outputs": [
    {
     "output_type": "stream",
     "name": "stderr",
     "text": [
      "100%|██████████| 1000000/1000000 [00:07<00:00, 142397.00it/s]{1.0: 0.432384, -1.0: 0.480642, 0.0: 0.086974} -0.048258 (-0.05012840573841079, -0.04638759426158921)\n",
      "\n"
     ]
    }
   ],
   "source": [
    "env = gym.make('Blackjack-v1')\n",
    "agent = bj.BasicStrategyAgent(env)\n",
    "stats = bj.simulate(agent, env)\n",
    "print(dict(zip(stats.data, stats.weights / stats.sum_weights)), stats.mean, stats.tconfint_mean())"
   ]
  },
  {
   "cell_type": "code",
   "execution_count": 6,
   "metadata": {},
   "outputs": [
    {
     "output_type": "stream",
     "name": "stderr",
     "text": [
      "100%|██████████| 1000000/1000000 [00:07<00:00, 139164.30it/s]{-1.0: 0.479283, 1.0: 0.387606, 0.0: 0.088131, 1.5: 0.04498} -0.024207 (-0.02613486278962172, -0.022279137210378278)\n",
      "\n"
     ]
    }
   ],
   "source": [
    "env = gym.make('Blackjack-v1', winning_blackjack_payoff=+1.5)\n",
    "agent = bj.BasicStrategyAgent(env)\n",
    "stats = bj.simulate(agent, env)\n",
    "print(dict(zip(stats.data, stats.weights / stats.sum_weights)), stats.mean, stats.tconfint_mean())"
   ]
  }
 ]
}