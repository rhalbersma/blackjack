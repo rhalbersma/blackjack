{
 "metadata": {
  "language_info": {
   "codemirror_mode": {
    "name": "ipython",
    "version": 3
   },
   "file_extension": ".py",
   "mimetype": "text/x-python",
   "name": "python",
   "nbconvert_exporter": "python",
   "pygments_lexer": "ipython3",
   "version": "3.8.5-final"
  },
  "orig_nbformat": 2,
  "kernelspec": {
   "name": "python3",
   "display_name": "Python 3",
   "language": "python"
  }
 },
 "nbformat": 4,
 "nbformat_minor": 2,
 "cells": [
  {
   "cell_type": "code",
   "execution_count": 1,
   "metadata": {},
   "outputs": [],
   "source": [
    "import gym\n",
    "import gym_blackjack_v1 as bj\n",
    "import numpy as np\n",
    "from itertools import product"
   ]
  },
  {
   "cell_type": "code",
   "execution_count": 2,
   "metadata": {},
   "outputs": [
    {
     "output_type": "stream",
     "name": "stderr",
     "text": [
      "100%|██████████| 1000000/1000000 [00:39<00:00, 25395.28it/s]{-1.0: 0.477097, 1.0: 0.428445, 0.0: 0.094458} -0.048652 (-0.050514665126361866, -0.046789334873638136)\n",
      "\n"
     ]
    }
   ],
   "source": [
    "env = gym.make('Blackjack-v0')\n",
    "agent = bj.BasicStrategyAgent(env)\n",
    "stats = bj.simulate(agent, env)\n",
    "print(dict(zip(stats.data, stats.weights / stats.sum_weights)), stats.mean, stats.tconfint_mean())"
   ]
  },
  {
   "cell_type": "code",
   "execution_count": 3,
   "metadata": {},
   "outputs": [
    {
     "output_type": "stream",
     "name": "stderr",
     "text": [
      "100%|██████████| 1000000/1000000 [00:40<00:00, 24653.17it/s]{0.0: 0.094607, -1.0: 0.47649, 1.0: 0.387387, 1.5: 0.041516} -0.026829 (-0.028745932429084586, -0.02491206757091541)\n",
      "\n"
     ]
    }
   ],
   "source": [
    "env = gym.make('Blackjack-v0', natural=True)\n",
    "agent = bj.BasicStrategyAgent(env)\n",
    "stats = bj.simulate(agent, env)\n",
    "print(dict(zip(stats.data, stats.weights / stats.sum_weights)), stats.mean, stats.tconfint_mean())"
   ]
  },
  {
   "cell_type": "code",
   "execution_count": 4,
   "metadata": {},
   "outputs": [
    {
     "output_type": "stream",
     "name": "stderr",
     "text": [
      "100%|██████████| 1000000/1000000 [00:13<00:00, 75187.37it/s]{-1.0: 0.476084, 0.0: 0.094505, 1.0: 0.429411} -0.046673 (-0.04853581118486477, -0.04481018881513523)\n",
      "\n"
     ]
    }
   ],
   "source": [
    "env = gym.make('Blackjack-v1', blackjack_ties_with_21=True)\n",
    "agent = bj.BasicStrategyAgent(env)\n",
    "stats = bj.simulate(agent, env)\n",
    "print(dict(zip(stats.data, stats.weights / stats.sum_weights)), stats.mean, stats.tconfint_mean())"
   ]
  },
  {
   "cell_type": "code",
   "execution_count": 5,
   "metadata": {},
   "outputs": [
    {
     "output_type": "stream",
     "name": "stderr",
     "text": [
      "100%|██████████| 1000000/1000000 [00:13<00:00, 74499.64it/s]{-1.0: 0.479978, 1.0: 0.432395, 0.0: 0.087627} -0.047583 (-0.04945280150288377, -0.045713198497116234)\n",
      "\n"
     ]
    }
   ],
   "source": [
    "env = gym.make('Blackjack-v1')\n",
    "agent = bj.BasicStrategyAgent(env)\n",
    "stats = bj.simulate(agent, env)\n",
    "print(dict(zip(stats.data, stats.weights / stats.sum_weights)), stats.mean, stats.tconfint_mean())"
   ]
  },
  {
   "cell_type": "code",
   "execution_count": 6,
   "metadata": {},
   "outputs": [
    {
     "output_type": "stream",
     "name": "stderr",
     "text": [
      "100%|██████████| 1000000/1000000 [00:13<00:00, 74739.74it/s]{-1.0: 0.479931, 1.0: 0.387918, 0.0: 0.087217, 1.5: 0.044934} -0.024612 (-0.02654069624459917, -0.022683303755400827)\n",
      "\n"
     ]
    }
   ],
   "source": [
    "env = gym.make('Blackjack-v1', winning_blackjack_payoff=+1.5)\n",
    "agent = bj.BasicStrategyAgent(env)\n",
    "stats = bj.simulate(agent, env)\n",
    "print(dict(zip(stats.data, stats.weights / stats.sum_weights)), stats.mean, stats.tconfint_mean())"
   ]
  }
 ]
}