{
 "metadata": {
  "language_info": {
   "codemirror_mode": {
    "name": "ipython",
    "version": 3
   },
   "file_extension": ".py",
   "mimetype": "text/x-python",
   "name": "python",
   "nbconvert_exporter": "python",
   "pygments_lexer": "ipython3",
   "version": "3.8.5-final"
  },
  "orig_nbformat": 2,
  "kernelspec": {
   "name": "python3",
   "display_name": "Python 3",
   "language": "python"
  }
 },
 "nbformat": 4,
 "nbformat_minor": 2,
 "cells": [
  {
   "cell_type": "code",
   "execution_count": 1,
   "metadata": {},
   "outputs": [],
   "source": [
    "import gym\n",
    "import gym_blackjack_v1 as bj\n",
    "import numpy as np\n",
    "from itertools import product"
   ]
  },
  {
   "cell_type": "code",
   "execution_count": 2,
   "metadata": {},
   "outputs": [
    {
     "output_type": "stream",
     "name": "stderr",
     "text": [
      "100%|██████████| 1000000/1000000 [00:39<00:00, 25621.76it/s]{1.0: 0.429749, -1.0: 0.475586, 0.0: 0.094665} -0.045837 (-0.047699725950880845, -0.04397427404911916)\n",
      "\n"
     ]
    }
   ],
   "source": [
    "env = gym.make('Blackjack-v0')\n",
    "agent = bj.BasicStrategyAgent(env)\n",
    "stats = bj.simulate(agent, env)\n",
    "print(dict(zip(stats.data, stats.weights / stats.sum_weights)), stats.mean, stats.tconfint_mean())"
   ]
  },
  {
   "cell_type": "code",
   "execution_count": 3,
   "metadata": {},
   "outputs": [
    {
     "output_type": "stream",
     "name": "stderr",
     "text": [
      "100%|██████████| 1000000/1000000 [00:41<00:00, 24134.02it/s]{-1.0: 0.476772, 1.0: 0.387517, 1.5: 0.041689, 0.0: 0.094022} -0.0267215 (-0.028639240866541973, -0.024803759133458024)\n",
      "\n"
     ]
    }
   ],
   "source": [
    "env = gym.make('Blackjack-v0', natural=True)\n",
    "agent = bj.BasicStrategyAgent(env)\n",
    "stats = bj.simulate(agent, env)\n",
    "print(dict(zip(stats.data, stats.weights / stats.sum_weights)), stats.mean, stats.tconfint_mean())"
   ]
  },
  {
   "cell_type": "code",
   "execution_count": 4,
   "metadata": {},
   "outputs": [
    {
     "output_type": "stream",
     "name": "stderr",
     "text": [
      "100%|██████████| 1000000/1000000 [00:08<00:00, 124565.15it/s]{-1.0: 0.475473, 0.0: 0.0948, 1.0: 0.429727} -0.045746 (-0.047608595335654286, -0.04388340466434572)\n",
      "\n"
     ]
    }
   ],
   "source": [
    "env = gym.make('Blackjack-v1', blackjack_ties_with_21=True)\n",
    "agent = bj.BasicStrategyAgent(env)\n",
    "stats = bj.simulate(agent, env)\n",
    "print(dict(zip(stats.data, stats.weights / stats.sum_weights)), stats.mean, stats.tconfint_mean())"
   ]
  },
  {
   "cell_type": "code",
   "execution_count": 5,
   "metadata": {},
   "outputs": [
    {
     "output_type": "stream",
     "name": "stderr",
     "text": [
      "100%|██████████| 1000000/1000000 [00:07<00:00, 126829.68it/s]{-1.0: 0.479653, 1.0: 0.433335, 0.0: 0.087012} -0.046318 (-0.04818855512449828, -0.044447444875501715)\n",
      "\n"
     ]
    }
   ],
   "source": [
    "env = gym.make('Blackjack-v1')\n",
    "agent = bj.BasicStrategyAgent(env)\n",
    "stats = bj.simulate(agent, env)\n",
    "print(dict(zip(stats.data, stats.weights / stats.sum_weights)), stats.mean, stats.tconfint_mean())"
   ]
  },
  {
   "cell_type": "code",
   "execution_count": 6,
   "metadata": {},
   "outputs": [
    {
     "output_type": "stream",
     "name": "stderr",
     "text": [
      "100%|██████████| 1000000/1000000 [00:07<00:00, 127579.93it/s]{1.0: 0.387838, -1.0: 0.479697, 0.0: 0.087717, 1.5: 0.044748} -0.024737 (-0.026664960484325158, -0.02280903951567484)\n",
      "\n"
     ]
    }
   ],
   "source": [
    "env = gym.make('Blackjack-v1', winning_blackjack_payoff=+1.5)\n",
    "agent = bj.BasicStrategyAgent(env)\n",
    "stats = bj.simulate(agent, env)\n",
    "print(dict(zip(stats.data, stats.weights / stats.sum_weights)), stats.mean, stats.tconfint_mean())"
   ]
  }
 ]
}